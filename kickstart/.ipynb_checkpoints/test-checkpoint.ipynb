{
 "cells": [
  {
   "cell_type": "code",
   "execution_count": 3,
   "metadata": {},
   "outputs": [],
   "source": [
    "def _find_insert_idx( values, threshold):\n",
    "    \"\"\"\n",
    "    二分查找，找到有序数组的插入位置\n",
    "\n",
    "    :param values:有序数组  eg. values=[1,4,7,11,16]\n",
    "    :param threshold:  阈值  eg. threshold=10\n",
    "    :return:  index=3\n",
    "\n",
    "    注意 边界情况：\n",
    "    values=[1,4,7,11,16] threshold=17  index=5 \n",
    "\n",
    "    values=[1,4,7,11,16] threshold=0  index=0 \n",
    "    \n",
    "    values=[8,8,8]  threshold=8  index=3 \n",
    "    \n",
    "    \"\"\"\n",
    "    # from bisect import bisect_left\n",
    "    # return  bisect_left(values, threshold)\n",
    "\n",
    "    start = 0\n",
    "    end = len(values) - 1\n",
    "\n",
    "    while start <= end:\n",
    "        mid = (start + end) // 2\n",
    "        if threshold < values[mid]:\n",
    "            end = mid - 1\n",
    "        else:\n",
    "            if mid + 1 == len(values) or threshold < values[mid+1]:\n",
    "                return mid + 1\n",
    "            else:\n",
    "                start = mid + 1\n",
    "    return 0"
   ]
  },
  {
   "cell_type": "code",
   "execution_count": 6,
   "metadata": {},
   "outputs": [
    {
     "data": {
      "text/plain": [
       "3"
      ]
     },
     "execution_count": 6,
     "metadata": {},
     "output_type": "execute_result"
    }
   ],
   "source": [
    "_find_insert_idx([8,8,8],8)"
   ]
  },
  {
   "cell_type": "code",
   "execution_count": 12,
   "metadata": {},
   "outputs": [
    {
     "data": {
      "text/plain": [
       "0.6400000000000001"
      ]
     },
     "execution_count": 12,
     "metadata": {},
     "output_type": "execute_result"
    }
   ],
   "source": [
    "pow( 0.8,2 )"
   ]
  },
  {
   "cell_type": "code",
   "execution_count": 9,
   "metadata": {},
   "outputs": [
    {
     "data": {
      "text/plain": [
       "0.5120000000000001"
      ]
     },
     "execution_count": 9,
     "metadata": {},
     "output_type": "execute_result"
    }
   ],
   "source": [
    "0.8 ** 3"
   ]
  },
  {
   "cell_type": "code",
   "execution_count": 11,
   "metadata": {},
   "outputs": [
    {
     "data": {
      "text/plain": [
       "0.6400000000000001"
      ]
     },
     "execution_count": 11,
     "metadata": {},
     "output_type": "execute_result"
    }
   ],
   "source": [
    "import math \n",
    "\n",
    "math.pow( 0.8,2 )"
   ]
  },
  {
   "cell_type": "code",
   "execution_count": 14,
   "metadata": {},
   "outputs": [
    {
     "data": {
      "text/plain": [
       "3"
      ]
     },
     "execution_count": 14,
     "metadata": {},
     "output_type": "execute_result"
    }
   ],
   "source": [
    "from bisect import bisect_left\n",
    "i = bisect_left([1,4,7,11,16], 10)\n",
    "i"
   ]
  },
  {
   "cell_type": "code",
   "execution_count": 20,
   "metadata": {},
   "outputs": [
    {
     "data": {
      "text/plain": [
       "'a'"
      ]
     },
     "execution_count": 20,
     "metadata": {},
     "output_type": "execute_result"
    },
    {
     "data": {
      "text/plain": [
       "97"
      ]
     },
     "execution_count": 20,
     "metadata": {},
     "output_type": "execute_result"
    }
   ],
   "source": [
    "chr(97)\n",
    "\n",
    "ord('a')"
   ]
  },
  {
   "cell_type": "code",
   "execution_count": 3,
   "metadata": {},
   "outputs": [
    {
     "data": {
      "text/plain": [
       "{'a', 'b'}"
      ]
     },
     "execution_count": 3,
     "metadata": {},
     "output_type": "execute_result"
    },
    {
     "data": {
      "text/plain": [
       "True"
      ]
     },
     "execution_count": 3,
     "metadata": {},
     "output_type": "execute_result"
    },
    {
     "data": {
      "text/plain": [
       "False"
      ]
     },
     "execution_count": 3,
     "metadata": {},
     "output_type": "execute_result"
    }
   ],
   "source": [
    "a=set('abb')\n",
    "\n",
    "b=set('aab')\n",
    "\n",
    "a\n",
    "a==b\n",
    "\n",
    "(2,1,0)==(2,1,1)"
   ]
  },
  {
   "cell_type": "code",
   "execution_count": 4,
   "metadata": {},
   "outputs": [
    {
     "name": "stdout",
     "output_type": "stream",
     "text": [
      "(5, ['axpaj', 'apxaj', 'dnrbt', 'pjxdn'])\n",
      "(3, ['abd'])\n"
     ]
    }
   ],
   "source": [
    "a={5: ['axpaj', 'apxaj', 'dnrbt', 'pjxdn'], 3: ['abd']}\n",
    "\n",
    "for ele in a.items():\n",
    "    print(ele)"
   ]
  },
  {
   "cell_type": "code",
   "execution_count": 35,
   "metadata": {},
   "outputs": [],
   "source": [
    "from numpy import *\n",
    "\n",
    "dictionary=[]\n",
    "\n",
    "L= int(2e4)\n",
    "\n",
    "for i in range(L):\n",
    "\n",
    "    ascii_word=random.randint(97, 97+26, size= random.randint(2,11,size=1) )\n",
    "\n",
    "    word= ''.join(list(map(lambda c:chr(c) ,ascii_word))) \n",
    "    \n",
    "    dictionary.append(word)"
   ]
  },
  {
   "cell_type": "code",
   "execution_count": 36,
   "metadata": {},
   "outputs": [
    {
     "data": {
      "text/plain": [
       "20000"
      ]
     },
     "execution_count": 36,
     "metadata": {},
     "output_type": "execute_result"
    }
   ],
   "source": [
    "len(dictionary)"
   ]
  },
  {
   "cell_type": "code",
   "execution_count": 42,
   "metadata": {},
   "outputs": [
    {
     "data": {
      "text/plain": [
       "-392455434"
      ]
     },
     "execution_count": 42,
     "metadata": {},
     "output_type": "execute_result"
    }
   ],
   "source": [
    "import murmurhash\n",
    "\n",
    "murmurhash.hash('abcde')"
   ]
  },
  {
   "cell_type": "code",
   "execution_count": 51,
   "metadata": {},
   "outputs": [
    {
     "data": {
      "text/plain": [
       "6739138193770664555"
      ]
     },
     "execution_count": 51,
     "metadata": {},
     "output_type": "execute_result"
    }
   ],
   "source": [
    "hash('test')"
   ]
  },
  {
   "cell_type": "code",
   "execution_count": 58,
   "metadata": {},
   "outputs": [
    {
     "data": {
      "text/plain": [
       "{1, 2, 3, 4}"
      ]
     },
     "execution_count": 58,
     "metadata": {},
     "output_type": "execute_result"
    },
    {
     "data": {
      "text/plain": [
       "4"
      ]
     },
     "execution_count": 58,
     "metadata": {},
     "output_type": "execute_result"
    }
   ],
   "source": [
    "a = set([1, 2, 3])\n",
    "\n",
    "b=set([2, 3,4])\n",
    "\n",
    "c=a|b\n",
    "c\n",
    "\n",
    "len(c)"
   ]
  },
  {
   "cell_type": "code",
   "execution_count": 70,
   "metadata": {},
   "outputs": [
    {
     "data": {
      "text/plain": [
       "Counter({'h': 4,\n",
       "         'b': 9,\n",
       "         't': 10,\n",
       "         'x': 5,\n",
       "         'p': 8,\n",
       "         'z': 10,\n",
       "         'v': 10,\n",
       "         'f': 11,\n",
       "         'r': 7,\n",
       "         'n': 4,\n",
       "         'l': 4,\n",
       "         'd': 7,\n",
       "         'j': 4,\n",
       "         'm': 1,\n",
       "         'a': 1})"
      ]
     },
     "execution_count": 70,
     "metadata": {},
     "output_type": "execute_result"
    }
   ],
   "source": [
    "from collections import * \n",
    "\n",
    "s='hbtxbpzptvfpffrnvtftlvvxdrzxtrzdpftzjhnjxxnrzbnbplmddhttzrbvvdbtzdljhpffffvvzzbbtpvldhfzvjbrfpr'\n",
    "\n",
    "a=Counter(s) \n",
    "\n",
    "a['h']-=1\n",
    "\n",
    "a['a']+=1\n",
    "\n",
    "a"
   ]
  },
  {
   "cell_type": "code",
   "execution_count": 1,
   "metadata": {},
   "outputs": [],
   "source": [
    "N=int(1e18)\n",
    "\n",
    "time=0\n",
    "for i in range(len(N)):\n",
    "    \n",
    "    if i%2 ==0:\n",
    "        time+=1\n",
    "\n"
   ]
  }
 ],
 "metadata": {
  "kernelspec": {
   "display_name": "Python 3",
   "language": "python",
   "name": "python3"
  },
  "language_info": {
   "codemirror_mode": {
    "name": "ipython",
    "version": 3
   },
   "file_extension": ".py",
   "mimetype": "text/x-python",
   "name": "python",
   "nbconvert_exporter": "python",
   "pygments_lexer": "ipython3",
   "version": "3.7.3"
  },
  "toc": {
   "base_numbering": 1,
   "nav_menu": {},
   "number_sections": true,
   "sideBar": true,
   "skip_h1_title": false,
   "title_cell": "Table of Contents",
   "title_sidebar": "Contents",
   "toc_cell": false,
   "toc_position": {},
   "toc_section_display": true,
   "toc_window_display": false
  }
 },
 "nbformat": 4,
 "nbformat_minor": 1
}
