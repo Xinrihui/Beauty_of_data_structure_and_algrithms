{
 "cells": [
  {
   "cell_type": "code",
   "execution_count": null,
   "metadata": {},
   "outputs": [],
   "source": [
    "def _find_insert_idx( values, threshold):\n",
    "    \"\"\"\n",
    "    二分查找，找到有序数组的插入位置\n",
    "\n",
    "    :param values:有序数组  eg. values=[1,4,7,11,16]\n",
    "    :param threshold:  阈值  eg. threshold=10\n",
    "    :return:  index=3\n",
    "\n",
    "    注意 边界情况：\n",
    "    values=[1,4,7,11,16] threshold=17  index=5 \n",
    "\n",
    "    values=[1,4,7,11,16] threshold=0  index=0 \n",
    "    \n",
    "    values=[8,8,8]  threshold=8  index=3 \n",
    "    \n",
    "    \"\"\"\n",
    "    # from bisect import bisect_left\n",
    "    # return  bisect_left(values, threshold)\n",
    "\n",
    "    start = 0\n",
    "    end = len(values) - 1\n",
    "\n",
    "    while start <= end:\n",
    "        mid = (start + end) // 2\n",
    "        if threshold < values[mid]:\n",
    "            end = mid - 1\n",
    "        else:\n",
    "            if mid + 1 == len(values) or threshold < values[mid+1]:\n",
    "                return mid + 1\n",
    "            else:\n",
    "                start = mid + 1\n",
    "    return 0"
   ]
  },
  {
   "cell_type": "code",
   "execution_count": null,
   "metadata": {},
   "outputs": [],
   "source": [
    "_find_insert_idx([8,8,8],8)"
   ]
  },
  {
   "cell_type": "code",
   "execution_count": null,
   "metadata": {},
   "outputs": [],
   "source": [
    "pow( 0.8,2 )"
   ]
  },
  {
   "cell_type": "code",
   "execution_count": null,
   "metadata": {},
   "outputs": [],
   "source": [
    "0.8 ** 3"
   ]
  },
  {
   "cell_type": "code",
   "execution_count": null,
   "metadata": {},
   "outputs": [],
   "source": [
    "import math \n",
    "\n",
    "math.pow( 0.8,2 )"
   ]
  },
  {
   "cell_type": "code",
   "execution_count": null,
   "metadata": {},
   "outputs": [],
   "source": [
    "from bisect import bisect_left\n",
    "i = bisect_left([1,4,7,11,16], 10)\n",
    "i"
   ]
  },
  {
   "cell_type": "code",
   "execution_count": null,
   "metadata": {},
   "outputs": [],
   "source": [
    "chr(97)\n",
    "\n",
    "ord('a')"
   ]
  },
  {
   "cell_type": "code",
   "execution_count": null,
   "metadata": {},
   "outputs": [],
   "source": [
    "a=set('abb')\n",
    "\n",
    "b=set('aab')\n",
    "\n",
    "a\n",
    "a==b\n",
    "\n",
    "(2,1,0)==(2,1,1)"
   ]
  },
  {
   "cell_type": "code",
   "execution_count": null,
   "metadata": {},
   "outputs": [],
   "source": [
    "a={5: ['axpaj', 'apxaj', 'dnrbt', 'pjxdn'], 3: ['abd']}\n",
    "\n",
    "for ele in a.items():\n",
    "    print(ele)"
   ]
  },
  {
   "cell_type": "code",
   "execution_count": null,
   "metadata": {},
   "outputs": [],
   "source": [
    "from numpy import *\n",
    "\n",
    "dictionary=[]\n",
    "\n",
    "L= int(2e4)\n",
    "\n",
    "for i in range(L):\n",
    "\n",
    "    ascii_word=random.randint(97, 97+26, size= random.randint(2,11,size=1) )\n",
    "\n",
    "    word= ''.join(list(map(lambda c:chr(c) ,ascii_word))) \n",
    "    \n",
    "    dictionary.append(word)"
   ]
  },
  {
   "cell_type": "code",
   "execution_count": null,
   "metadata": {},
   "outputs": [],
   "source": [
    "len(dictionary)"
   ]
  },
  {
   "cell_type": "code",
   "execution_count": null,
   "metadata": {},
   "outputs": [],
   "source": [
    "import murmurhash\n",
    "\n",
    "murmurhash.hash('abcde')"
   ]
  },
  {
   "cell_type": "code",
   "execution_count": null,
   "metadata": {},
   "outputs": [],
   "source": [
    "hash('test')"
   ]
  },
  {
   "cell_type": "code",
   "execution_count": null,
   "metadata": {},
   "outputs": [],
   "source": [
    "a = set([1, 2, 3])\n",
    "\n",
    "b=set([2, 3,4])\n",
    "\n",
    "c=a|b\n",
    "c\n",
    "\n",
    "len(c)"
   ]
  },
  {
   "cell_type": "code",
   "execution_count": null,
   "metadata": {},
   "outputs": [],
   "source": [
    "from collections import * \n",
    "\n",
    "s='hbtxbpzptvfpffrnvtftlvvxdrzxtrzdpftzjhnjxxnrzbnbplmddhttzrbvvdbtzdljhpffffvvzzbbtpvldhfzvjbrfpr'\n",
    "\n",
    "a=Counter(s) \n",
    "\n",
    "a['h']-=1\n",
    "\n",
    "a['a']+=1\n",
    "\n",
    "a"
   ]
  },
  {
   "cell_type": "code",
   "execution_count": null,
   "metadata": {},
   "outputs": [],
   "source": [
    "N=int(1e18)\n",
    "\n",
    "time=0 \n",
    "\n",
    "for i in range(N):\n",
    "    \n",
    "    if i%2 ==0:\n",
    "        time+=1"
   ]
  },
  {
   "cell_type": "code",
   "execution_count": null,
   "metadata": {},
   "outputs": [],
   "source": [
    "i=849\n",
    "\n",
    "def getDigits(n):\n",
    "    \"\"\"\n",
    "    从高位到 低位 返回 整数 的 每一位 \n",
    "    :param n: \n",
    "    :return: \n",
    "    \"\"\"\n",
    "\n",
    "    digit_list=[]\n",
    "\n",
    "    while n > 0:\n",
    "        digit = n % 10\n",
    "\n",
    "        digit_list.append(digit)\n",
    "\n",
    "        n = n // 10\n",
    "\n",
    "    return digit_list[::-1]\n",
    "    \n",
    "\n",
    "getDigits(849)"
   ]
  },
  {
   "cell_type": "code",
   "execution_count": null,
   "metadata": {},
   "outputs": [],
   "source": [
    "def ListToInt(digit_list):\n",
    "    \"\"\"\n",
    "    将 digit_list 转换回 整数\n",
    "\n",
    "    eg. \n",
    "    digit_list=[8,4,9]\n",
    "    res=849\n",
    "\n",
    "    :param digit_list: \n",
    "    :return: \n",
    "    \"\"\"\n",
    "    import  functools\n",
    "\n",
    "    return  functools.reduce(lambda total, d: 10 * total + d, digit_list, 0)\n",
    "\n",
    "ListToInt([])"
   ]
  },
  {
   "cell_type": "code",
   "execution_count": null,
   "metadata": {},
   "outputs": [],
   "source": [
    "a = 60            # 60 = 0011 1100 \n",
    "b = 13            # 13 = 0000 1101 \n",
    "c = 0\n",
    " \n",
    "c = a & b;        # 12 = 0000 1100\n",
    "\n",
    "list(bin(c))\n",
    "\n",
    "list(bin(10))[2:]"
   ]
  },
  {
   "cell_type": "code",
   "execution_count": 36,
   "metadata": {},
   "outputs": [
    {
     "data": {
      "text/plain": [
       "'-0b100'"
      ]
     },
     "execution_count": 36,
     "metadata": {},
     "output_type": "execute_result"
    },
    {
     "data": {
      "text/plain": [
       "-2"
      ]
     },
     "execution_count": 36,
     "metadata": {},
     "output_type": "execute_result"
    },
    {
     "data": {
      "text/plain": [
       "-1"
      ]
     },
     "execution_count": 36,
     "metadata": {},
     "output_type": "execute_result"
    },
    {
     "data": {
      "text/plain": [
       "-1"
      ]
     },
     "execution_count": 36,
     "metadata": {},
     "output_type": "execute_result"
    },
    {
     "data": {
      "text/plain": [
       "-1"
      ]
     },
     "execution_count": 36,
     "metadata": {},
     "output_type": "execute_result"
    }
   ],
   "source": [
    "\n",
    "a=-4\n",
    "bin(a) # '-0b100'\n",
    "\n",
    "a>>1 # -2\n",
    "a>>2 # -1\n",
    "a>>3 # -1\n",
    "a>>4 # -1\n"
   ]
  },
  {
   "cell_type": "code",
   "execution_count": 37,
   "metadata": {},
   "outputs": [
    {
     "data": {
      "text/plain": [
       "'0b100'"
      ]
     },
     "execution_count": 37,
     "metadata": {},
     "output_type": "execute_result"
    },
    {
     "data": {
      "text/plain": [
       "2"
      ]
     },
     "execution_count": 37,
     "metadata": {},
     "output_type": "execute_result"
    },
    {
     "data": {
      "text/plain": [
       "1"
      ]
     },
     "execution_count": 37,
     "metadata": {},
     "output_type": "execute_result"
    },
    {
     "data": {
      "text/plain": [
       "0"
      ]
     },
     "execution_count": 37,
     "metadata": {},
     "output_type": "execute_result"
    },
    {
     "data": {
      "text/plain": [
       "0"
      ]
     },
     "execution_count": 37,
     "metadata": {},
     "output_type": "execute_result"
    }
   ],
   "source": [
    "a= 4  # 0b100\n",
    "bin(a) \n",
    "\n",
    "a>>1 # 2\n",
    "a>>2 # 1\n",
    "a>>3 # 0\n",
    "a>>4 # 0"
   ]
  },
  {
   "cell_type": "code",
   "execution_count": 31,
   "metadata": {},
   "outputs": [
    {
     "data": {
      "text/plain": [
       "'0b111100'"
      ]
     },
     "execution_count": 31,
     "metadata": {},
     "output_type": "execute_result"
    },
    {
     "data": {
      "text/plain": [
       "8"
      ]
     },
     "execution_count": 31,
     "metadata": {},
     "output_type": "execute_result"
    },
    {
     "data": {
      "text/plain": [
       "6"
      ]
     },
     "execution_count": 31,
     "metadata": {},
     "output_type": "execute_result"
    },
    {
     "data": {
      "text/plain": [
       "2"
      ]
     },
     "execution_count": 31,
     "metadata": {},
     "output_type": "execute_result"
    },
    {
     "data": {
      "text/plain": [
       "0"
      ]
     },
     "execution_count": 31,
     "metadata": {},
     "output_type": "execute_result"
    }
   ],
   "source": [
    "\n",
    "a = 60            # 60 = 0011 1100 \n",
    "b = 13            # 13 = 0000 1101 \n",
    "\n",
    "bin(a)\n",
    "len(bin(a))\n",
    "\n",
    "a.bit_length() # \n",
    "\n",
    "X=8\n",
    "n=4\n",
    "A= X >> (n//2) # 取 A 的高(n//2) 位\n",
    "B=  X & (2**(n//2)-1)  # 取 A 的低(n//2) 位\n",
    "\n",
    "A\n",
    "B \n"
   ]
  },
  {
   "cell_type": "code",
   "execution_count": null,
   "metadata": {},
   "outputs": [],
   "source": [
    "def IntHexConversion(n,x):\n",
    "    \"\"\"\n",
    "    进制转换 \n",
    "\n",
    "    1.将 整数(10进制) n 转换为  x 进制表示 ,并以列表的形式输出 \n",
    "\n",
    "    2. 利用除 x 取余数法\n",
    "\n",
    "    3.注意此函数 的时间复杂度是 O(length(n))  \n",
    "\n",
    "    eg. \n",
    "    n=6\n",
    "    x=2 \n",
    "    digit_list=[1,1,0]\n",
    "\n",
    "    n=5\n",
    "    x=2 \n",
    "    digit_list=[1,0,1]\n",
    "\n",
    "    :param n: \n",
    "    :return: digit_list\n",
    "    \"\"\"\n",
    "\n",
    "    digit_list = []\n",
    "\n",
    "    while n > 0:\n",
    "        digit = n % x\n",
    "\n",
    "        digit_list.append(digit)\n",
    "\n",
    "        n = n // x\n",
    "\n",
    "    return digit_list[::-1]\n",
    "\n",
    "IntHexConversion(6,2)"
   ]
  },
  {
   "cell_type": "code",
   "execution_count": null,
   "metadata": {},
   "outputs": [],
   "source": [
    "\n",
    "a=[0,2,3]\n",
    "\n",
    "''.join(a)"
   ]
  },
  {
   "cell_type": "code",
   "execution_count": null,
   "metadata": {},
   "outputs": [],
   "source": [
    "\n",
    "a_list=[1,2,3]\n",
    "b_list=a_list\n",
    "b_list.append(4)\n",
    "\n",
    "print(a_list) #[1, 2, 3, 4]\n",
    "print(b_list) #[1, 2, 3, 4]\n",
    "\n",
    "a_tuple=(1,2,3)\n",
    "b_tuple=a_tuple\n",
    "b_tuple=b_tuple+(4,)\n",
    "\n",
    "print(a_tuple) #(1, 2, 3)\n",
    "print(b_tuple) # (1, 2, 3, 4)\n"
   ]
  },
  {
   "cell_type": "code",
   "execution_count": null,
   "metadata": {},
   "outputs": [],
   "source": [
    "a = 'ABC'\n",
    "b = a\n",
    "b=b+'D'\n",
    "\n",
    "print(a) # ABC\n",
    "print(b) # ABCD\n",
    "\n"
   ]
  },
  {
   "cell_type": "code",
   "execution_count": 1,
   "metadata": {},
   "outputs": [
    {
     "name": "stdout",
     "output_type": "stream",
     "text": [
      "[1, 2, 3, 4]\n"
     ]
    }
   ],
   "source": [
    "\n",
    "a=[1,2,3]\n",
    "\n",
    "def preocess(a):\n",
    "    a.append(4)\n",
    "    return a \n",
    "    \n",
    "b=preocess(a)\n",
    "\n",
    "print(a) # [1, 2, 3, 4]\n"
   ]
  },
  {
   "cell_type": "code",
   "execution_count": 6,
   "metadata": {},
   "outputs": [
    {
     "ename": "TypeError",
     "evalue": "'set' object is not subscriptable",
     "output_type": "error",
     "traceback": [
      "\u001b[1;31m---------------------------------------------------------------------------\u001b[0m",
      "\u001b[1;31mTypeError\u001b[0m                                 Traceback (most recent call last)",
      "\u001b[1;32m<ipython-input-6-5ff9b27adc59>\u001b[0m in \u001b[0;36m<module>\u001b[1;34m\u001b[0m\n\u001b[0;32m      1\u001b[0m \u001b[0ma\u001b[0m\u001b[1;33m=\u001b[0m\u001b[0mset\u001b[0m\u001b[1;33m(\u001b[0m\u001b[1;33m[\u001b[0m\u001b[1;36m1\u001b[0m\u001b[1;33m,\u001b[0m\u001b[1;36m2\u001b[0m\u001b[1;33m,\u001b[0m\u001b[1;36m3\u001b[0m\u001b[1;33m]\u001b[0m\u001b[1;33m)\u001b[0m\u001b[1;33m\u001b[0m\u001b[1;33m\u001b[0m\u001b[0m\n\u001b[0;32m      2\u001b[0m \u001b[1;33m\u001b[0m\u001b[0m\n\u001b[1;32m----> 3\u001b[1;33m \u001b[0ma\u001b[0m\u001b[1;33m[\u001b[0m\u001b[1;36m0\u001b[0m\u001b[1;33m]\u001b[0m\u001b[1;33m\u001b[0m\u001b[1;33m\u001b[0m\u001b[0m\n\u001b[0m\u001b[0;32m      4\u001b[0m \u001b[1;33m\u001b[0m\u001b[0m\n",
      "\u001b[1;31mTypeError\u001b[0m: 'set' object is not subscriptable"
     ]
    }
   ],
   "source": [
    "a=set([1,2,3])\n",
    "\n",
    "\n",
    "\n"
   ]
  },
  {
   "cell_type": "code",
   "execution_count": 16,
   "metadata": {},
   "outputs": [
    {
     "data": {
      "text/plain": [
       "array([[64,  1],\n",
       "       [ 1,  0]], dtype=int32)"
      ]
     },
     "execution_count": 16,
     "metadata": {},
     "output_type": "execute_result"
    }
   ],
   "source": [
    "import numpy as np \n",
    "\n",
    "a=np.array([ [2,1],\n",
    "             [1,0] ])\n",
    "\n",
    "b=a**(6)\n",
    "\n",
    "b=np.power(a,6)\n",
    "\n",
    "b"
   ]
  },
  {
   "cell_type": "code",
   "execution_count": 15,
   "metadata": {},
   "outputs": [
    {
     "data": {
      "text/plain": [
       "array([[2, 1],\n",
       "       [1, 1]])"
      ]
     },
     "execution_count": 15,
     "metadata": {},
     "output_type": "execute_result"
    }
   ],
   "source": [
    "np.dot(a,a)"
   ]
  },
  {
   "cell_type": "code",
   "execution_count": 22,
   "metadata": {},
   "outputs": [
    {
     "ename": "RecursionError",
     "evalue": "maximum recursion depth exceeded while calling a Python object",
     "output_type": "error",
     "traceback": [
      "\u001b[1;31m---------------------------------------------------------------------------\u001b[0m",
      "\u001b[1;31mRecursionError\u001b[0m                            Traceback (most recent call last)",
      "\u001b[1;32m<ipython-input-22-5070cff00cd0>\u001b[0m in \u001b[0;36m<module>\u001b[1;34m\u001b[0m\n\u001b[0;32m     36\u001b[0m     [1,0] ]\n\u001b[0;32m     37\u001b[0m \u001b[1;33m\u001b[0m\u001b[0m\n\u001b[1;32m---> 38\u001b[1;33m \u001b[0mquick_matrix_pow\u001b[0m\u001b[1;33m(\u001b[0m\u001b[0ma\u001b[0m\u001b[1;33m,\u001b[0m\u001b[1;36m2\u001b[0m\u001b[1;33m)\u001b[0m\u001b[1;33m\u001b[0m\u001b[1;33m\u001b[0m\u001b[0m\n\u001b[0m",
      "\u001b[1;32m<ipython-input-22-5070cff00cd0>\u001b[0m in \u001b[0;36mquick_matrix_pow\u001b[1;34m(x, N)\u001b[0m\n\u001b[0;32m     25\u001b[0m \u001b[1;33m\u001b[0m\u001b[0m\n\u001b[0;32m     26\u001b[0m         \u001b[1;32mif\u001b[0m \u001b[0mN\u001b[0m \u001b[1;33m%\u001b[0m \u001b[1;36m2\u001b[0m \u001b[1;33m==\u001b[0m \u001b[1;36m0\u001b[0m\u001b[1;33m:\u001b[0m\u001b[1;33m\u001b[0m\u001b[1;33m\u001b[0m\u001b[0m\n\u001b[1;32m---> 27\u001b[1;33m             \u001b[0msub_problem\u001b[0m \u001b[1;33m=\u001b[0m \u001b[0mquick_matrix_pow\u001b[0m\u001b[1;33m(\u001b[0m\u001b[0mx\u001b[0m\u001b[1;33m,\u001b[0m \u001b[0mN\u001b[0m \u001b[1;33m//\u001b[0m \u001b[1;36m2\u001b[0m\u001b[1;33m)\u001b[0m\u001b[1;33m\u001b[0m\u001b[1;33m\u001b[0m\u001b[0m\n\u001b[0m\u001b[0;32m     28\u001b[0m             \u001b[0mresult\u001b[0m \u001b[1;33m=\u001b[0m \u001b[0mnp\u001b[0m\u001b[1;33m.\u001b[0m\u001b[0mdot\u001b[0m\u001b[1;33m(\u001b[0m\u001b[0msub_problem\u001b[0m\u001b[1;33m,\u001b[0m \u001b[0msub_problem\u001b[0m\u001b[1;33m)\u001b[0m\u001b[1;33m\u001b[0m\u001b[1;33m\u001b[0m\u001b[0m\n\u001b[0;32m     29\u001b[0m         \u001b[1;32melse\u001b[0m\u001b[1;33m:\u001b[0m\u001b[1;33m\u001b[0m\u001b[1;33m\u001b[0m\u001b[0m\n",
      "\u001b[1;32m<ipython-input-22-5070cff00cd0>\u001b[0m in \u001b[0;36mquick_matrix_pow\u001b[1;34m(x, N)\u001b[0m\n\u001b[0;32m     28\u001b[0m             \u001b[0mresult\u001b[0m \u001b[1;33m=\u001b[0m \u001b[0mnp\u001b[0m\u001b[1;33m.\u001b[0m\u001b[0mdot\u001b[0m\u001b[1;33m(\u001b[0m\u001b[0msub_problem\u001b[0m\u001b[1;33m,\u001b[0m \u001b[0msub_problem\u001b[0m\u001b[1;33m)\u001b[0m\u001b[1;33m\u001b[0m\u001b[1;33m\u001b[0m\u001b[0m\n\u001b[0;32m     29\u001b[0m         \u001b[1;32melse\u001b[0m\u001b[1;33m:\u001b[0m\u001b[1;33m\u001b[0m\u001b[1;33m\u001b[0m\u001b[0m\n\u001b[1;32m---> 30\u001b[1;33m             \u001b[0msub_problem\u001b[0m \u001b[1;33m=\u001b[0m \u001b[0mquick_matrix_pow\u001b[0m\u001b[1;33m(\u001b[0m\u001b[0mx\u001b[0m\u001b[1;33m,\u001b[0m \u001b[1;33m(\u001b[0m\u001b[0mN\u001b[0m \u001b[1;33m-\u001b[0m \u001b[1;36m1\u001b[0m\u001b[1;33m)\u001b[0m \u001b[1;33m//\u001b[0m \u001b[1;36m2\u001b[0m\u001b[1;33m)\u001b[0m  \u001b[1;31m# (n-1) 括号要加\u001b[0m\u001b[1;33m\u001b[0m\u001b[1;33m\u001b[0m\u001b[0m\n\u001b[0m\u001b[0;32m     31\u001b[0m             \u001b[0mresult\u001b[0m \u001b[1;33m=\u001b[0m  \u001b[0mnp\u001b[0m\u001b[1;33m.\u001b[0m\u001b[0mdot\u001b[0m\u001b[1;33m(\u001b[0m\u001b[0mnp\u001b[0m\u001b[1;33m.\u001b[0m\u001b[0mdot\u001b[0m\u001b[1;33m(\u001b[0m\u001b[0msub_problem\u001b[0m\u001b[1;33m,\u001b[0m \u001b[0msub_problem\u001b[0m\u001b[1;33m)\u001b[0m\u001b[1;33m,\u001b[0m \u001b[0mx\u001b[0m\u001b[1;33m)\u001b[0m\u001b[1;33m\u001b[0m\u001b[1;33m\u001b[0m\u001b[0m\n\u001b[0;32m     32\u001b[0m \u001b[1;33m\u001b[0m\u001b[0m\n",
      "\u001b[1;32m<ipython-input-22-5070cff00cd0>\u001b[0m in \u001b[0;36mquick_matrix_pow\u001b[1;34m(x, N)\u001b[0m\n\u001b[0;32m     25\u001b[0m \u001b[1;33m\u001b[0m\u001b[0m\n\u001b[0;32m     26\u001b[0m         \u001b[1;32mif\u001b[0m \u001b[0mN\u001b[0m \u001b[1;33m%\u001b[0m \u001b[1;36m2\u001b[0m \u001b[1;33m==\u001b[0m \u001b[1;36m0\u001b[0m\u001b[1;33m:\u001b[0m\u001b[1;33m\u001b[0m\u001b[1;33m\u001b[0m\u001b[0m\n\u001b[1;32m---> 27\u001b[1;33m             \u001b[0msub_problem\u001b[0m \u001b[1;33m=\u001b[0m \u001b[0mquick_matrix_pow\u001b[0m\u001b[1;33m(\u001b[0m\u001b[0mx\u001b[0m\u001b[1;33m,\u001b[0m \u001b[0mN\u001b[0m \u001b[1;33m//\u001b[0m \u001b[1;36m2\u001b[0m\u001b[1;33m)\u001b[0m\u001b[1;33m\u001b[0m\u001b[1;33m\u001b[0m\u001b[0m\n\u001b[0m\u001b[0;32m     28\u001b[0m             \u001b[0mresult\u001b[0m \u001b[1;33m=\u001b[0m \u001b[0mnp\u001b[0m\u001b[1;33m.\u001b[0m\u001b[0mdot\u001b[0m\u001b[1;33m(\u001b[0m\u001b[0msub_problem\u001b[0m\u001b[1;33m,\u001b[0m \u001b[0msub_problem\u001b[0m\u001b[1;33m)\u001b[0m\u001b[1;33m\u001b[0m\u001b[1;33m\u001b[0m\u001b[0m\n\u001b[0;32m     29\u001b[0m         \u001b[1;32melse\u001b[0m\u001b[1;33m:\u001b[0m\u001b[1;33m\u001b[0m\u001b[1;33m\u001b[0m\u001b[0m\n",
      "... last 1 frames repeated, from the frame below ...\n",
      "\u001b[1;32m<ipython-input-22-5070cff00cd0>\u001b[0m in \u001b[0;36mquick_matrix_pow\u001b[1;34m(x, N)\u001b[0m\n\u001b[0;32m     25\u001b[0m \u001b[1;33m\u001b[0m\u001b[0m\n\u001b[0;32m     26\u001b[0m         \u001b[1;32mif\u001b[0m \u001b[0mN\u001b[0m \u001b[1;33m%\u001b[0m \u001b[1;36m2\u001b[0m \u001b[1;33m==\u001b[0m \u001b[1;36m0\u001b[0m\u001b[1;33m:\u001b[0m\u001b[1;33m\u001b[0m\u001b[1;33m\u001b[0m\u001b[0m\n\u001b[1;32m---> 27\u001b[1;33m             \u001b[0msub_problem\u001b[0m \u001b[1;33m=\u001b[0m \u001b[0mquick_matrix_pow\u001b[0m\u001b[1;33m(\u001b[0m\u001b[0mx\u001b[0m\u001b[1;33m,\u001b[0m \u001b[0mN\u001b[0m \u001b[1;33m//\u001b[0m \u001b[1;36m2\u001b[0m\u001b[1;33m)\u001b[0m\u001b[1;33m\u001b[0m\u001b[1;33m\u001b[0m\u001b[0m\n\u001b[0m\u001b[0;32m     28\u001b[0m             \u001b[0mresult\u001b[0m \u001b[1;33m=\u001b[0m \u001b[0mnp\u001b[0m\u001b[1;33m.\u001b[0m\u001b[0mdot\u001b[0m\u001b[1;33m(\u001b[0m\u001b[0msub_problem\u001b[0m\u001b[1;33m,\u001b[0m \u001b[0msub_problem\u001b[0m\u001b[1;33m)\u001b[0m\u001b[1;33m\u001b[0m\u001b[1;33m\u001b[0m\u001b[0m\n\u001b[0;32m     29\u001b[0m         \u001b[1;32melse\u001b[0m\u001b[1;33m:\u001b[0m\u001b[1;33m\u001b[0m\u001b[1;33m\u001b[0m\u001b[0m\n",
      "\u001b[1;31mRecursionError\u001b[0m: maximum recursion depth exceeded while calling a Python object"
     ]
    }
   ],
   "source": [
    "def quick_matrix_pow( x, N):\n",
    "    \"\"\"\n",
    "    基于分治法 的快速 方阵(nxn)的 幂乘法\n",
    "\n",
    "    x^N 其中 N 必为 正整数\n",
    "\n",
    "    :param x: \n",
    "    :param n: \n",
    "    :return: \n",
    "    \"\"\"\n",
    "    x=np.array(x)\n",
    "\n",
    "    if x.shape[0] != x.shape[1]:\n",
    "        raise Exception('x:{}不是一个方阵，无法计算 矩阵的幂乘'.format(x))\n",
    "\n",
    "    n=x.shape[0]\n",
    "\n",
    "    if n == 0:\n",
    "        return np.ones(shape=(n,n))\n",
    "\n",
    "    elif n==1:\n",
    "        return x\n",
    "\n",
    "    else: # n==2,3,4\n",
    "\n",
    "        if N % 2 == 0:\n",
    "            sub_problem = quick_matrix_pow(x, N // 2)\n",
    "            result = np.dot(sub_problem, sub_problem)\n",
    "        else:\n",
    "            sub_problem = quick_matrix_pow(x, (N - 1) // 2)  # (n-1) 括号要加\n",
    "            result =  np.dot(np.dot(sub_problem, sub_problem), x)\n",
    "\n",
    "    return result\n",
    "\n",
    "a=[ [1,1],\n",
    "    [1,0] ]\n",
    "\n",
    "quick_matrix_pow(a,2)"
   ]
  }
 ],
 "metadata": {
  "kernelspec": {
   "display_name": "Python 3",
   "language": "python",
   "name": "python3"
  },
  "language_info": {
   "codemirror_mode": {
    "name": "ipython",
    "version": 3
   },
   "file_extension": ".py",
   "mimetype": "text/x-python",
   "name": "python",
   "nbconvert_exporter": "python",
   "pygments_lexer": "ipython3",
   "version": "3.7.3"
  },
  "toc": {
   "base_numbering": 1,
   "nav_menu": {},
   "number_sections": true,
   "sideBar": true,
   "skip_h1_title": false,
   "title_cell": "Table of Contents",
   "title_sidebar": "Contents",
   "toc_cell": false,
   "toc_position": {},
   "toc_section_display": true,
   "toc_window_display": false
  }
 },
 "nbformat": 4,
 "nbformat_minor": 1
}
